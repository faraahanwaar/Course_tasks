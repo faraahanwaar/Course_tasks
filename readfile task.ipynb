{
 "cells": [
  {
   "cell_type": "markdown",
   "id": "73ef268d",
   "metadata": {},
   "source": [
    "# file unordered"
   ]
  },
  {
   "cell_type": "code",
   "execution_count": 28,
   "id": "ad0dcff1",
   "metadata": {},
   "outputs": [
    {
     "name": "stdout",
     "output_type": "stream",
     "text": [
      "farah anwar sadek 01020533555 farah@gmail.com\n",
      "01257654442 youssef ahmed ali yussef@gmail.com\n",
      "aya@gmail.com 01123455565 aya anwar sadeq\n",
      "noran sayed maged nora@yahoo.com 01123455565 \n",
      " 04567893535 aliaa@yahoo.com aliaa ali mostafa\n",
      "khaled ahmed ali 01257654442 kaled@gmail.com\n",
      "\n"
     ]
    }
   ],
   "source": [
    "f=open(\"untitled.txt\",\"r\")\n",
    "mytask=f.read()\n",
    "print (mytask)"
   ]
  },
  {
   "cell_type": "code",
   "execution_count": 17,
   "id": "333daff4",
   "metadata": {},
   "outputs": [
    {
     "name": "stdout",
     "output_type": "stream",
     "text": [
      "['farah anwar sadek', 'youssef ahmed ali', 'aya anwar sadeq', 'noran sayed maged', 'com aliaa ali', 'khaled ahmed ali']\n",
      "['01020533555', '01257654442', '01123455565', '01123455565', '04567893535', '01257654442']\n",
      "['farah@gmail.com', 'yussef@gmail.com', 'aya@gmail.com', 'nora@yahoo.com', 'aliaa@yahoo.com', 'kaled@gmail.com']\n"
     ]
    }
   ],
   "source": [
    "import re\n",
    "\n",
    "names=re.findall(\"[a-zA-Z]+ [a-zA-Z]+ [a-zA-Z]+\",mytask)\n",
    "names_list=[]\n",
    "for name in names :\n",
    "    names_list.append(name)\n",
    "print(names_list)\n",
    " \n",
    "nums=re.findall(r\"\\d{11}\",mytask)\n",
    "num_list=[]\n",
    "for number in nums:\n",
    "    num_list.append(number)\n",
    "print(num_list)\n",
    "\n",
    "emails=re.findall(r\"[a-zA-Z]+@[a-zA-Z]+\\.com\",mytask)\n",
    "email_list=[]\n",
    "for email in emails:\n",
    "    email_list.append(email)\n",
    "print(email_list)\n"
   ]
  },
  {
   "cell_type": "markdown",
   "id": "0f5578fa",
   "metadata": {},
   "source": [
    "# file separated differently"
   ]
  },
  {
   "cell_type": "code",
   "execution_count": 21,
   "id": "e2a97eda",
   "metadata": {},
   "outputs": [],
   "source": [
    "file=open(\"untitled1.txt\")\n",
    "mydata=file.read()"
   ]
  },
  {
   "cell_type": "code",
   "execution_count": 22,
   "id": "fbc75592",
   "metadata": {},
   "outputs": [
    {
     "name": "stdout",
     "output_type": "stream",
     "text": [
      "farah anwar sadek_01020533555_farah@gmail.com\n",
      "youssef ahmed ali,01257654442,yussef@gmail.com\n",
      "aya anwar sadeq;01123455565;aya@gmail.com \n",
      "noran sayed maged'01123455565'nora@yahoo.com\n",
      "aliaa ali mostafa\\01567893535\\aliaa@yahoo.com\n",
      "khaled ahmed ali:01257654442:kaled@gmail.com\n",
      "\n"
     ]
    }
   ],
   "source": [
    "print(mydata)"
   ]
  },
  {
   "cell_type": "code",
   "execution_count": 29,
   "id": "6da2933e",
   "metadata": {},
   "outputs": [
    {
     "name": "stdout",
     "output_type": "stream",
     "text": [
      "['farah anwar sadek', 'youssef ahmed ali', 'aya anwar sadeq', 'noran sayed maged', 'aliaa ali mostafa', 'khaled ahmed ali']\n",
      "['01020533555', '01257654442', '01123455565', '01123455565', '04567893535', '01257654442']\n",
      "['farah@gmail.com', 'yussef@gmail.com', 'aya@gmail.com', 'nora@yahoo.com', 'aliaa@yahoo.com', 'kaled@gmail.com']\n"
     ]
    }
   ],
   "source": [
    "import re\n",
    "\n",
    "names=re.findall(r\"[a-zA-Z]+ [a-zA-Z]+ [a-zA-Z]+\",mydata)\n",
    "names_list=[]\n",
    "for name in names :\n",
    "    names_list.append(name)\n",
    "print(names_list)\n",
    "\n",
    "nums=re.findall(\"\\d{11}\",mydata)\n",
    "nums_list=[]\n",
    "for number in nums :\n",
    "    nums_list.append(number)\n",
    "print(num_list)\n",
    "\n",
    "emails=re.findall(\"[a-zA-Z]+@[A-Za-z]+\\.com\",mydata)\n",
    "email_list=[]\n",
    "for email in emails:\n",
    "    email_list.append(email)\n",
    "print(email_list)"
   ]
  }
 ],
 "metadata": {
  "kernelspec": {
   "display_name": "Python 3 (ipykernel)",
   "language": "python",
   "name": "python3"
  },
  "language_info": {
   "codemirror_mode": {
    "name": "ipython",
    "version": 3
   },
   "file_extension": ".py",
   "mimetype": "text/x-python",
   "name": "python",
   "nbconvert_exporter": "python",
   "pygments_lexer": "ipython3",
   "version": "3.11.3"
  }
 },
 "nbformat": 4,
 "nbformat_minor": 5
}
