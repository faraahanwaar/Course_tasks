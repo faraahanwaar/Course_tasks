{
 "cells": [
  {
   "cell_type": "markdown",
   "id": "27464fb7",
   "metadata": {},
   "source": [
    "# What Is a Graph - In Short"
   ]
  },
  {
   "cell_type": "markdown",
   "id": "77169860",
   "metadata": {},
   "source": [
    "A graph is a data structure you can use to model hierarchy and relationships between objects. It consists of a set of nodes and a set of edges. Nodes represent individual objects, while edges illustrate relationships between those objects."
   ]
  },
  {
   "cell_type": "code",
   "execution_count": 6,
   "id": "35eba69d",
   "metadata": {},
   "outputs": [],
   "source": [
    "# definition of function\n",
    "def generate_edges(graph):\n",
    "    edges = []\n",
    "\n",
    "    # for each node in graph\n",
    "    for node in graph:\n",
    "\n",
    "        # for each neighbour node of a single node\n",
    "        for neighbour in graph[node]:\n",
    "            # if edge exists then append\n",
    "            edges.append((node, neighbour))\n",
    "    return edges"
   ]
  },
  {
   "cell_type": "code",
   "execution_count": 7,
   "id": "d4113558",
   "metadata": {},
   "outputs": [
    {
     "name": "stdout",
     "output_type": "stream",
     "text": [
      "[('a', 'c'), ('b', 'c'), ('b', 'e'), ('c', 'd'), ('c', 'e'), ('c', 'a'), ('c', 'b'), ('e', 'b'), ('e', 'c'), ('d', 'c')]\n"
     ]
    }
   ],
   "source": [
    "# Python program for\n",
    "# validation of a graph\n",
    "\n",
    "# import dictionary for graph\n",
    "from collections import defaultdict\n",
    "\n",
    "# function for adding edge to graph\n",
    "graph = defaultdict(list)\n",
    "def addEdge(graph,u,v):\n",
    "\tgraph[u].append(v)\n",
    "\n",
    "# definition of function\n",
    "def generate_edges(graph):\n",
    "\tedges = []\n",
    "\n",
    "\t# for each node in graph\n",
    "\tfor node in graph:\n",
    "\t\t\n",
    "\t\t# for each neighbour node of a single node\n",
    "\t\tfor neighbour in graph[node]:\n",
    "\t\t\t\n",
    "\t\t\t# if edge exists then append\n",
    "\t\t\tedges.append((node, neighbour))\n",
    "\treturn edges\n",
    "\n",
    "# declaration of graph as dictionary\n",
    "addEdge(graph,'a','c')\n",
    "addEdge(graph,'b','c')\n",
    "addEdge(graph,'b','e')\n",
    "addEdge(graph,'c','d')\n",
    "addEdge(graph,'c','e')\n",
    "addEdge(graph,'c','a')\n",
    "addEdge(graph,'c','b')\n",
    "addEdge(graph,'e','b')\n",
    "addEdge(graph,'d','c')\n",
    "addEdge(graph,'e','c')\n",
    "\n",
    "# Driver Function call\n",
    "# to print generated graph\n",
    "print(generate_edges(graph))\n"
   ]
  }
 ],
 "metadata": {
  "kernelspec": {
   "display_name": "Python 3 (ipykernel)",
   "language": "python",
   "name": "python3"
  },
  "language_info": {
   "codemirror_mode": {
    "name": "ipython",
    "version": 3
   },
   "file_extension": ".py",
   "mimetype": "text/x-python",
   "name": "python",
   "nbconvert_exporter": "python",
   "pygments_lexer": "ipython3",
   "version": "3.11.3"
  }
 },
 "nbformat": 4,
 "nbformat_minor": 5
}
