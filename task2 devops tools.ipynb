{
 "cells": [
  {
   "cell_type": "markdown",
   "id": "06fc7233",
   "metadata": {},
   "source": [
    "# 30 Best DevOps Tools to Learn and Master In 2023: Git, Docker & More"
   ]
  },
  {
   "cell_type": "code",
   "execution_count": null,
   "id": "ae166aa7",
   "metadata": {},
   "outputs": [],
   "source": [
    "1. Version Control Tool: Git (GitLab, GitHub, Bitbucket)"
   ]
  },
  {
   "cell_type": "code",
   "execution_count": null,
   "id": "56b65f4c",
   "metadata": {},
   "outputs": [],
   "source": [
    "2. Build Tool: Maven"
   ]
  },
  {
   "cell_type": "code",
   "execution_count": null,
   "id": "7c068dff",
   "metadata": {},
   "outputs": [],
   "source": [
    "3. Continuous Integration Tool: Jenkins"
   ]
  },
  {
   "cell_type": "code",
   "execution_count": null,
   "id": "f96c9e57",
   "metadata": {},
   "outputs": [],
   "source": [
    "4. Configuration Management Tool: Chef"
   ]
  },
  {
   "cell_type": "code",
   "execution_count": null,
   "id": "d0a47e20",
   "metadata": {},
   "outputs": [],
   "source": [
    "5. Configuration Management Tool: Puppet"
   ]
  },
  {
   "cell_type": "code",
   "execution_count": null,
   "id": "6bdda32b",
   "metadata": {},
   "outputs": [],
   "source": [
    "6. Configuration Management Tool: Ansible"
   ]
  },
  {
   "cell_type": "code",
   "execution_count": null,
   "id": "3d9abc91",
   "metadata": {},
   "outputs": [],
   "source": [
    "7. Container Platforms: Docker"
   ]
  },
  {
   "cell_type": "code",
   "execution_count": null,
   "id": "a101fd26",
   "metadata": {},
   "outputs": [],
   "source": [
    "8. Container Platforms: Kubernetes"
   ]
  },
  {
   "cell_type": "code",
   "execution_count": null,
   "id": "193ba9ae",
   "metadata": {},
   "outputs": [],
   "source": [
    "9. Communication and Collaboration: Slack"
   ]
  },
  {
   "cell_type": "code",
   "execution_count": null,
   "id": "8021f271",
   "metadata": {},
   "outputs": [],
   "source": [
    "10. AWS Cloud Computing and Storage in DevOps"
   ]
  },
  {
   "cell_type": "code",
   "execution_count": null,
   "id": "61dece75",
   "metadata": {},
   "outputs": [],
   "source": [
    "11. Azure Cloud Computing and Storage in DevOps"
   ]
  },
  {
   "cell_type": "code",
   "execution_count": null,
   "id": "1b58771e",
   "metadata": {},
   "outputs": [],
   "source": [
    "12. Google Cloud Platform Cloud Computing and Storage in DevOps"
   ]
  },
  {
   "cell_type": "code",
   "execution_count": null,
   "id": "1a5335f5",
   "metadata": {},
   "outputs": [],
   "source": [
    "13. Monitoring, Alerting, and Incident Response Tools: SignalFx"
   ]
  },
  {
   "cell_type": "code",
   "execution_count": null,
   "id": "b67a4342",
   "metadata": {},
   "outputs": [],
   "source": [
    "14. Appdynamics: Monitoring, Alerting, and Incident Response Tools"
   ]
  },
  {
   "cell_type": "code",
   "execution_count": null,
   "id": "72d7d566",
   "metadata": {},
   "outputs": [],
   "source": [
    "15. Raygun: Monitoring, Alerting, and Incident Response Tools"
   ]
  },
  {
   "cell_type": "code",
   "execution_count": null,
   "id": "eaf8737c",
   "metadata": {},
   "outputs": [],
   "source": [
    "16. Splunk Cloud: Monitoring, Alerting, and Incident Response Tools"
   ]
  },
  {
   "cell_type": "code",
   "execution_count": null,
   "id": "d62fb24e",
   "metadata": {},
   "outputs": [],
   "source": [
    "17. Testing Tool: Selenium"
   ]
  },
  {
   "cell_type": "code",
   "execution_count": null,
   "id": "6874467c",
   "metadata": {},
   "outputs": [],
   "source": [
    "18. Testing Tool: Gremlin"
   ]
  },
  {
   "cell_type": "code",
   "execution_count": null,
   "id": "5309f29c",
   "metadata": {},
   "outputs": [],
   "source": [
    "19. IT Ticketing: Servicenow"
   ]
  },
  {
   "cell_type": "code",
   "execution_count": null,
   "id": "4113838c",
   "metadata": {},
   "outputs": [],
   "source": [
    "20. Status Service Updates: The Status Page"
   ]
  },
  {
   "cell_type": "code",
   "execution_count": null,
   "id": "b0673e13",
   "metadata": {},
   "outputs": [],
   "source": [
    "21. ELK (Elasticsearch, Logstash and Kibana"
   ]
  },
  {
   "cell_type": "code",
   "execution_count": null,
   "id": "0a172e67",
   "metadata": {},
   "outputs": [],
   "source": [
    "22. Gitlab CI/CD"
   ]
  },
  {
   "cell_type": "code",
   "execution_count": null,
   "id": "c4c86bbd",
   "metadata": {},
   "outputs": [],
   "source": [
    "23. Scripting"
   ]
  },
  {
   "cell_type": "code",
   "execution_count": null,
   "id": "c1355aa3",
   "metadata": {},
   "outputs": [],
   "source": [
    "24. Terraform"
   ]
  },
  {
   "cell_type": "code",
   "execution_count": null,
   "id": "5c9738bf",
   "metadata": {},
   "outputs": [],
   "source": [
    "25. Phantom"
   ]
  },
  {
   "cell_type": "code",
   "execution_count": null,
   "id": "1b26cf38",
   "metadata": {},
   "outputs": [],
   "source": [
    "26. Nagios"
   ]
  },
  {
   "cell_type": "code",
   "execution_count": null,
   "id": "267f9967",
   "metadata": {},
   "outputs": [],
   "source": [
    "27. Vagrant"
   ]
  },
  {
   "cell_type": "code",
   "execution_count": null,
   "id": "2fecff3e",
   "metadata": {},
   "outputs": [],
   "source": [
    "28. Sentry"
   ]
  },
  {
   "cell_type": "code",
   "execution_count": null,
   "id": "91698f35",
   "metadata": {},
   "outputs": [],
   "source": [
    "29. Gradle"
   ]
  },
  {
   "cell_type": "code",
   "execution_count": null,
   "id": "69914d0e",
   "metadata": {},
   "outputs": [],
   "source": [
    "30. eG Enterprise"
   ]
  }
 ],
 "metadata": {
  "kernelspec": {
   "display_name": "Python 3 (ipykernel)",
   "language": "python",
   "name": "python3"
  },
  "language_info": {
   "codemirror_mode": {
    "name": "ipython",
    "version": 3
   },
   "file_extension": ".py",
   "mimetype": "text/x-python",
   "name": "python",
   "nbconvert_exporter": "python",
   "pygments_lexer": "ipython3",
   "version": "3.11.3"
  }
 },
 "nbformat": 4,
 "nbformat_minor": 5
}
