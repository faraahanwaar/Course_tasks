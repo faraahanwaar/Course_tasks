{
 "cells": [
  {
   "cell_type": "markdown",
   "id": "06fc7233",
   "metadata": {},
   "source": [
    "# 30 Best DevOps Tools to Learn and Master In 2023: Git, Docker & More"
   ]
  },
  {
   "cell_type": "raw",
   "id": "57c596aa",
   "metadata": {},
   "source": [
    "1. Version Control Tool: Git (GitLab, GitHub, Bitbucket)"
   ]
  },
  {
   "cell_type": "raw",
   "id": "2de402be",
   "metadata": {},
   "source": [
    "2. Build Tool: Maven"
   ]
  },
  {
   "cell_type": "raw",
   "id": "1f44ed86",
   "metadata": {},
   "source": [
    "3. Continuous Integration Tool: Jenkins"
   ]
  },
  {
   "cell_type": "raw",
   "id": "1ddb5bef",
   "metadata": {},
   "source": [
    "4. Configuration Management Tool: Chef"
   ]
  },
  {
   "cell_type": "raw",
   "id": "6d9100b1",
   "metadata": {},
   "source": [
    "5. Configuration Management Tool: Puppet"
   ]
  },
  {
   "cell_type": "raw",
   "id": "28ee1dab",
   "metadata": {},
   "source": [
    "6. Configuration Management Tool: Ansible"
   ]
  },
  {
   "cell_type": "raw",
   "id": "b25d648d",
   "metadata": {},
   "source": [
    "7. Container Platforms: Docker"
   ]
  },
  {
   "cell_type": "raw",
   "id": "9ca8a1c7",
   "metadata": {},
   "source": [
    "8. Container Platforms: Kubernetes"
   ]
  },
  {
   "cell_type": "raw",
   "id": "8ef8c72f",
   "metadata": {},
   "source": [
    "9. Communication and Collaboration: Slack"
   ]
  },
  {
   "cell_type": "raw",
   "id": "5dc71d6e",
   "metadata": {},
   "source": [
    "10. AWS Cloud Computing and Storage in DevOps"
   ]
  },
  {
   "cell_type": "raw",
   "id": "e3b63b74",
   "metadata": {},
   "source": [
    "11. Azure Cloud Computing and Storage in DevOps"
   ]
  },
  {
   "cell_type": "raw",
   "id": "400f9428",
   "metadata": {},
   "source": [
    "12. Google Cloud Platform Cloud Computing and Storage in DevOps"
   ]
  },
  {
   "cell_type": "raw",
   "id": "0315f6ce",
   "metadata": {},
   "source": [
    "13. Monitoring, Alerting, and Incident Response Tools: SignalFx"
   ]
  },
  {
   "cell_type": "raw",
   "id": "11aa1a09",
   "metadata": {},
   "source": [
    "14. Appdynamics: Monitoring, Alerting, and Incident Response Tools"
   ]
  },
  {
   "cell_type": "raw",
   "id": "c99fdebf",
   "metadata": {},
   "source": [
    "15. Raygun: Monitoring, Alerting, and Incident Response Tools"
   ]
  },
  {
   "cell_type": "raw",
   "id": "c427da61",
   "metadata": {},
   "source": [
    "16. Splunk Cloud: Monitoring, Alerting, and Incident Response Tools"
   ]
  },
  {
   "cell_type": "raw",
   "id": "7f07077a",
   "metadata": {},
   "source": [
    "17. Testing Tool: Selenium"
   ]
  },
  {
   "cell_type": "raw",
   "id": "ed6afc29",
   "metadata": {},
   "source": [
    "18. Testing Tool: Gremlin"
   ]
  },
  {
   "cell_type": "raw",
   "id": "a474f2a5",
   "metadata": {},
   "source": [
    "19. IT Ticketing: Servicenow"
   ]
  },
  {
   "cell_type": "raw",
   "id": "abdb5546",
   "metadata": {},
   "source": [
    "20. Status Service Updates: The Status Page"
   ]
  },
  {
   "cell_type": "raw",
   "id": "7a380b0f",
   "metadata": {},
   "source": [
    "21. ELK (Elasticsearch, Logstash and Kibana"
   ]
  },
  {
   "cell_type": "raw",
   "id": "35204bed",
   "metadata": {},
   "source": [
    "22. Gitlab CI/CD"
   ]
  },
  {
   "cell_type": "raw",
   "id": "2ed9681c",
   "metadata": {},
   "source": [
    "23. Scripting"
   ]
  },
  {
   "cell_type": "raw",
   "id": "f67aeed5",
   "metadata": {},
   "source": [
    "24. Terraform"
   ]
  },
  {
   "cell_type": "raw",
   "id": "a1ba14ec",
   "metadata": {},
   "source": [
    "25. Phantom"
   ]
  },
  {
   "cell_type": "raw",
   "id": "a1150323",
   "metadata": {},
   "source": [
    "26. Nagios"
   ]
  },
  {
   "cell_type": "raw",
   "id": "d929b53a",
   "metadata": {},
   "source": [
    "27. Vagrant"
   ]
  },
  {
   "cell_type": "raw",
   "id": "533e392c",
   "metadata": {},
   "source": [
    "28. Sentry"
   ]
  },
  {
   "cell_type": "raw",
   "id": "d83f4f89",
   "metadata": {},
   "source": [
    "29. Gradle"
   ]
  },
  {
   "cell_type": "raw",
   "id": "22d59759",
   "metadata": {},
   "source": [
    "30. eG Enterprise"
   ]
  }
 ],
 "metadata": {
  "kernelspec": {
   "display_name": "Python 3 (ipykernel)",
   "language": "python",
   "name": "python3"
  },
  "language_info": {
   "codemirror_mode": {
    "name": "ipython",
    "version": 3
   },
   "file_extension": ".py",
   "mimetype": "text/x-python",
   "name": "python",
   "nbconvert_exporter": "python",
   "pygments_lexer": "ipython3",
   "version": "3.11.3"
  }
 },
 "nbformat": 4,
 "nbformat_minor": 5
}
